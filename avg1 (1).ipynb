{
 "cells": [
  {
   "cell_type": "code",
   "execution_count": 1,
   "metadata": {},
   "outputs": [
    {
     "name": "stdout",
     "output_type": "stream",
     "text": [
      "2\n",
      "ram\n",
      "23 56 45 34 65\n",
      "vis\n",
      "56 34 67 45 23\n",
      "['ram', 'vis']\n",
      "[[23, 56, 45, 34, 65], [56, 34, 67, 45, 23]]\n",
      "223\n",
      "44.6\n",
      "225\n",
      "45.0\n",
      "[44.6, 45.0]\n",
      "[223, 225]\n",
      "{'ram': 223, 'vis': 225}\n",
      "{'vis': 225, 'ram': 223}\n",
      "{'vis': 1, 'ram': 2}\n",
      "{'ram': 44.6, 'vis': 45.0}\n",
      "vis\n",
      "rank: 1 average: 45.0 total: 225\n"
     ]
    }
   ],
   "source": [
    "import operator\n",
    "student=[]\n",
    "marks=[]\n",
    "avg1=[]\n",
    "total1=[]\n",
    "num=int(input())\n",
    "for i in range(num):\n",
    "    student.append(input())\n",
    "    marks.append(list(map(int,input().split())))\n",
    "print(student)\n",
    "print(marks)\n",
    "for i in range(num):\n",
    "    total=sum(marks[i])\n",
    "    print(total)\n",
    "    avg=total/5\n",
    "    print(avg)\n",
    "    avg1.append(avg)\n",
    "    total1.append(total)\n",
    "print(avg1) \n",
    "print(total1)\n",
    "stn_dic={}\n",
    "count=0\n",
    "for k in student:\n",
    "    stn_dic[k]=total1[count]\n",
    "    count+=1\n",
    "print(stn_dic)  \n",
    "t=dict(sorted(stn_dic.items(),key=operator.itemgetter(1),reverse=True) )\n",
    "print(t)\n",
    "rank=1\n",
    "dic1={}\n",
    "dic2={}\n",
    "for q in t:\n",
    "    dic1[q]=rank\n",
    "    rank+=1\n",
    "print(dic1)\n",
    "count1=0\n",
    "for w in student:\n",
    "    dic2[w]=avg1[count1]\n",
    "    count1+=1\n",
    "print(dic2)      \n",
    "f=(input())\n",
    "print(\"rank:\",dic1[f],\"average:\",dic2[f],\"total:\",stn_dic[f])\n",
    "\n"
   ]
  },
  {
   "cell_type": "code",
   "execution_count": 36,
   "metadata": {},
   "outputs": [
    {
     "data": {
      "text/plain": [
       "2"
      ]
     },
     "execution_count": 36,
     "metadata": {},
     "output_type": "execute_result"
    }
   ],
   "source": [
    "dic1[\"vishal\"]"
   ]
  },
  {
   "cell_type": "code",
   "execution_count": 6,
   "metadata": {},
   "outputs": [
    {
     "data": {
      "text/plain": [
       "[]"
      ]
     },
     "execution_count": 6,
     "metadata": {},
     "output_type": "execute_result"
    }
   ],
   "source": [
    "sorted(stn_dic.items(),key=operator.itemgetter(1),reverse=True)"
   ]
  },
  {
   "cell_type": "code",
   "execution_count": 17,
   "metadata": {},
   "outputs": [
    {
     "data": {
      "text/plain": [
       "[('ram', 2), ('vishal', 1)]"
      ]
     },
     "execution_count": 17,
     "metadata": {},
     "output_type": "execute_result"
    }
   ],
   "source": [
    "sorted(stn_dic.items(),key=operator.itemgetter(1),reverse=True)"
   ]
  },
  {
   "cell_type": "code",
   "execution_count": 6,
   "metadata": {},
   "outputs": [
    {
     "data": {
      "text/plain": [
       "[289, 329, 389]"
      ]
     },
     "execution_count": 6,
     "metadata": {},
     "output_type": "execute_result"
    }
   ],
   "source": [
    "names = ['vish','ram','ramu']\n",
    "[289,329,389]"
   ]
  },
  {
   "cell_type": "code",
   "execution_count": 3,
   "metadata": {},
   "outputs": [],
   "source": [
    "import numpy as np"
   ]
  },
  {
   "cell_type": "code",
   "execution_count": 7,
   "metadata": {},
   "outputs": [
    {
     "data": {
      "text/plain": [
       "'ramu'"
      ]
     },
     "execution_count": 7,
     "metadata": {},
     "output_type": "execute_result"
    }
   ],
   "source": [
    "names[np.argmax([289,329,389])]"
   ]
  },
  {
   "cell_type": "code",
   "execution_count": 8,
   "metadata": {},
   "outputs": [
    {
     "data": {
      "text/plain": [
       "{'vish': 289, 'ram': 329, 'ramu': 389}"
      ]
     },
     "execution_count": 8,
     "metadata": {},
     "output_type": "execute_result"
    }
   ],
   "source": [
    "stu = {'vish':289,'ram':329,'ramu':389}\n",
    "stu"
   ]
  },
  {
   "cell_type": "code",
   "execution_count": null,
   "metadata": {},
   "outputs": [],
   "source": []
  }
 ],
 "metadata": {
  "kernelspec": {
   "display_name": "Python 3",
   "language": "python",
   "name": "python3"
  },
  "language_info": {
   "codemirror_mode": {
    "name": "ipython",
    "version": 3
   },
   "file_extension": ".py",
   "mimetype": "text/x-python",
   "name": "python",
   "nbconvert_exporter": "python",
   "pygments_lexer": "ipython3",
   "version": "3.6.5"
  }
 },
 "nbformat": 4,
 "nbformat_minor": 2
}
