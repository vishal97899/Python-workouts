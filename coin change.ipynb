{
 "cells": [
  {
   "cell_type": "code",
   "execution_count": 12,
   "metadata": {},
   "outputs": [
    {
     "name": "stdout",
     "output_type": "stream",
     "text": [
      "2 5 3 6\n",
      "[2, 5, 3, 6]\n",
      "10\n",
      "5\n"
     ]
    }
   ],
   "source": [
    "#coin change problem\n",
    "def count(s,m,n ):\n",
    " \n",
    "    if (n == 0):\n",
    "        return 1\n",
    " \n",
    "    if (n < 0):\n",
    "        return 0\n",
    " \n",
    "    if (m <=0 and n >= 1):\n",
    "        return 0\n",
    "    # count is sum of solutions (i) \n",
    "    # including S[m-1] (ii) excluding S[m-1]\n",
    "    return count( s, m - 1, n ) + count( s, m, n-s[m-1] )\n",
    "a=input().split()\n",
    "s=[]\n",
    "for i in a:\n",
    "    s.append(int(i))\n",
    "print(s)    \n",
    "m = len(s)\n",
    "n=int(input())\n",
    "print(count(s,m,n ))"
   ]
  },
  {
   "cell_type": "code",
   "execution_count": null,
   "metadata": {},
   "outputs": [],
   "source": []
  }
 ],
 "metadata": {
  "kernelspec": {
   "display_name": "Python 3",
   "language": "python",
   "name": "python3"
  },
  "language_info": {
   "codemirror_mode": {
    "name": "ipython",
    "version": 3
   },
   "file_extension": ".py",
   "mimetype": "text/x-python",
   "name": "python",
   "nbconvert_exporter": "python",
   "pygments_lexer": "ipython3",
   "version": "3.6.5"
  }
 },
 "nbformat": 4,
 "nbformat_minor": 2
}
