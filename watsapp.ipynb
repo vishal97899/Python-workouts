{
 "cells": [
  {
   "cell_type": "code",
   "execution_count": 1,
   "metadata": {},
   "outputs": [
    {
     "name": "stdout",
     "output_type": "stream",
     "text": [
      "Enter the name of the person?Bala\n"
     ]
    }
   ],
   "source": [
    "from selenium import webdriver\n",
    "import time\n",
    "from selenium.webdriver.common.keys import Keys \n",
    "name=input(\"Enter the name of the person?\") \n",
    "browser = webdriver.Chrome('C:\\\\Users\\\\sujitha\\\\wat\\\\chromedriver')\n",
    "browser.get('https://web.whatsapp.com') \n",
    "time.sleep(10) \n",
    "elem = browser.find_element_by_xpath(\"//input[@title='Search or start new chat']\")\n",
    "elem.click() \n",
    "elem.send_keys(name)\n",
    "time.sleep(10)\n",
    "browser.find_element_by_xpath(\"//*[@title='\"+name+\"']\").click();\n",
    "time.sleep(5)\n",
    "elem = browser.find_element_by_xpath(\"//div[@data-tab='1']\")\n",
    "elem.click()\n",
    "for i in range(1): \n",
    " elem.send_keys(\"heyyy hi there\" + Keys.ENTER) \n",
    " time.sleep(1)"
   ]
  },
  {
   "cell_type": "code",
   "execution_count": null,
   "metadata": {},
   "outputs": [],
   "source": []
  }
 ],
 "metadata": {
  "kernelspec": {
   "display_name": "Python 3",
   "language": "python",
   "name": "python3"
  },
  "language_info": {
   "codemirror_mode": {
    "name": "ipython",
    "version": 3
   },
   "file_extension": ".py",
   "mimetype": "text/x-python",
   "name": "python",
   "nbconvert_exporter": "python",
   "pygments_lexer": "ipython3",
   "version": "3.7.3"
  }
 },
 "nbformat": 4,
 "nbformat_minor": 2
}
