{
 "cells": [
  {
   "cell_type": "code",
   "execution_count": 14,
   "metadata": {},
   "outputs": [
    {
     "name": "stdout",
     "output_type": "stream",
     "text": [
      "enter the number of variables:2\n",
      "+2x+3y=+9\n",
      "-3x+4y=-10\n",
      "['+2x+3y=+9', '-3x+4y=-10']\n",
      "[[2, 3, 9], [-3, 4, -10]]\n",
      "[[ 2  3]\n",
      " [-3  4]]\n",
      "[  9 -10]\n",
      "x : 3.882352941176471\n",
      "y : 0.4117647058823531\n"
     ]
    }
   ],
   "source": [
    "def solveeqn():\n",
    "    import numpy as np\n",
    "    import re\n",
    "    var=int(input(\"enter the number of variables:\"))\n",
    "    eqn=[input() for i in range(var)]\n",
    "    print(eqn)\n",
    "    a=[]\n",
    "    b=[]\n",
    "    c=[]\n",
    "    for j in eqn:\n",
    "        a.append(list(map(int,re.findall(\"[+-]\\d+\",j))))\n",
    "    print(a)\n",
    "    b=np.array(a)[:var,:var]\n",
    "    print(b)\n",
    "    c=np.array(a)[:,var]\n",
    "    print(c)\n",
    "    z = np.linalg.solve(b,c)\n",
    "    if var == 2:\n",
    "        print(\"x :\",(z[0]))\n",
    "        print(\"y :\",(z[1]))\n",
    "    elif var == 3:\n",
    "        print(\"x :\",(z[0]))\n",
    "        print(\"y :\",(z[1]))\n",
    "        print(\"z :\",(z[2]))\n",
    "    else:\n",
    "        print(z)\n",
    "solveeqn()        "
   ]
  },
  {
   "cell_type": "code",
   "execution_count": 1,
   "metadata": {},
   "outputs": [
    {
     "name": "stdout",
     "output_type": "stream",
     "text": [
      "enter the number of variables:2\n",
      "+2x+3y=+9\n",
      "-3x+4y=-10\n",
      "['+2x+3y=+9', '-3x+4y=-10']\n",
      "[[2, 3, 9], [-3, 4, -10]]\n",
      "[[ 2  3]\n",
      " [-3  4]]\n",
      "[  9 -10]\n",
      "x : 4.0\n",
      "y : 1.0\n"
     ]
    }
   ],
   "source": [
    "def solveeqn():\n",
    "    import numpy as np\n",
    "    import re\n",
    "    var=int(input(\"enter the number of variables:\"))\n",
    "    eqn=[input() for i in range(var)]\n",
    "    print(eqn)\n",
    "    a=[]\n",
    "    b=[]\n",
    "    for j in eqn:\n",
    "        a.append(list(map(int,re.findall(\"[+-]\\d+\",j))))\n",
    "    print(a)\n",
    "    b=np.array(a)[:var,:var]\n",
    "    print(b)\n",
    "    c=np.array(a)[:,var]\n",
    "    print(c)\n",
    "    z = np.linalg.solve(b,c)\n",
    "    if var == 2:\n",
    "        print(\"x :\",np.ceil(z[0]))\n",
    "        print(\"y :\",np.ceil(z[1]))\n",
    "    elif var == 3:\n",
    "        print(\"x :\",np.ceil(z[0]))\n",
    "        print(\"y :\",np.ceil(z[1]))\n",
    "        print(\"z :\",np.ceil(z[2]))\n",
    "    else:\n",
    "        print(z)\n",
    "solveeqn()        "
   ]
  },
  {
   "cell_type": "code",
   "execution_count": 2,
   "metadata": {},
   "outputs": [
    {
     "name": "stdout",
     "output_type": "stream",
     "text": [
      "enter the number of variables:2\n",
      "+2x+3y=+9\n",
      "+2x+3y=+9\n",
      "[[], [], [], [], [], [], [], [], []]\n",
      "[]\n"
     ]
    },
    {
     "ename": "IndexError",
     "evalue": "index 2 is out of bounds for axis 1 with size 0",
     "output_type": "error",
     "traceback": [
      "\u001b[1;31m---------------------------------------------------------------------------\u001b[0m",
      "\u001b[1;31mIndexError\u001b[0m                                Traceback (most recent call last)",
      "\u001b[1;32m<ipython-input-2-c43864111362>\u001b[0m in \u001b[0;36m<module>\u001b[1;34m()\u001b[0m\n\u001b[0;32m     27\u001b[0m     \u001b[1;32melse\u001b[0m\u001b[1;33m:\u001b[0m\u001b[1;33m\u001b[0m\u001b[0m\n\u001b[0;32m     28\u001b[0m         \u001b[0mprint\u001b[0m\u001b[1;33m(\u001b[0m\u001b[0mz\u001b[0m\u001b[1;33m)\u001b[0m\u001b[1;33m\u001b[0m\u001b[0m\n\u001b[1;32m---> 29\u001b[1;33m \u001b[0msolveeqn\u001b[0m\u001b[1;33m(\u001b[0m\u001b[1;33m)\u001b[0m\u001b[1;33m\u001b[0m\u001b[0m\n\u001b[0m",
      "\u001b[1;32m<ipython-input-2-c43864111362>\u001b[0m in \u001b[0;36msolveeqn\u001b[1;34m()\u001b[0m\n\u001b[0;32m     15\u001b[0m     \u001b[0mb\u001b[0m\u001b[1;33m=\u001b[0m\u001b[0mnp\u001b[0m\u001b[1;33m.\u001b[0m\u001b[0marray\u001b[0m\u001b[1;33m(\u001b[0m\u001b[0ma\u001b[0m\u001b[1;33m)\u001b[0m\u001b[1;33m[\u001b[0m\u001b[1;33m:\u001b[0m\u001b[0mvar\u001b[0m\u001b[1;33m,\u001b[0m\u001b[1;33m:\u001b[0m\u001b[0mvar\u001b[0m\u001b[1;33m]\u001b[0m\u001b[1;33m\u001b[0m\u001b[0m\n\u001b[0;32m     16\u001b[0m     \u001b[0mprint\u001b[0m\u001b[1;33m(\u001b[0m\u001b[0mb\u001b[0m\u001b[1;33m)\u001b[0m\u001b[1;33m\u001b[0m\u001b[0m\n\u001b[1;32m---> 17\u001b[1;33m     \u001b[0mc\u001b[0m\u001b[1;33m=\u001b[0m\u001b[0mnp\u001b[0m\u001b[1;33m.\u001b[0m\u001b[0marray\u001b[0m\u001b[1;33m(\u001b[0m\u001b[0ma\u001b[0m\u001b[1;33m)\u001b[0m\u001b[1;33m[\u001b[0m\u001b[1;33m:\u001b[0m\u001b[1;33m,\u001b[0m\u001b[0mvar\u001b[0m\u001b[1;33m]\u001b[0m\u001b[1;33m\u001b[0m\u001b[0m\n\u001b[0m\u001b[0;32m     18\u001b[0m     \u001b[0mprint\u001b[0m\u001b[1;33m(\u001b[0m\u001b[0mc\u001b[0m\u001b[1;33m)\u001b[0m\u001b[1;33m\u001b[0m\u001b[0m\n\u001b[0;32m     19\u001b[0m     \u001b[0mz\u001b[0m \u001b[1;33m=\u001b[0m \u001b[0mnp\u001b[0m\u001b[1;33m.\u001b[0m\u001b[0mlinalg\u001b[0m\u001b[1;33m.\u001b[0m\u001b[0msolve\u001b[0m\u001b[1;33m(\u001b[0m\u001b[0mb\u001b[0m\u001b[1;33m,\u001b[0m\u001b[0mc\u001b[0m\u001b[1;33m)\u001b[0m\u001b[1;33m\u001b[0m\u001b[0m\n",
      "\u001b[1;31mIndexError\u001b[0m: index 2 is out of bounds for axis 1 with size 0"
     ]
    }
   ],
   "source": [
    "def solveeqn():\n",
    "    import numpy as np\n",
    "    import re\n",
    "    var=int(input(\"enter the number of variables:\"))\n",
    "    eqn=input()\n",
    "    p=[]\n",
    "    print(eqn)\n",
    "    a=[]\n",
    "    b=[]\n",
    "    for i in range(var):\n",
    "        p.append(eqn)\n",
    "    for j in eqn:\n",
    "        a.append(list(map(int,re.findall(\"[+-]\\d+\",j))))\n",
    "    print(a)\n",
    "    b=np.array(a)[:var,:var]\n",
    "    print(b)\n",
    "    c=np.array(a)[:,var]\n",
    "    print(c)\n",
    "    z = np.linalg.solve(b,c)\n",
    "    if var == 2:\n",
    "        print(\"x :\",np.ceil(z[0]))\n",
    "        print(\"y :\",np.ceil(z[1]))\n",
    "    elif var == 3:\n",
    "        print(\"x :\",np.ceil(z[0]))\n",
    "        print(\"y :\",np.ceil(z[1]))\n",
    "        print(\"z :\",np.ceil(z[2]))\n",
    "    else:\n",
    "        print(z)\n",
    "solveeqn()        "
   ]
  },
  {
   "cell_type": "code",
   "execution_count": 3,
   "metadata": {},
   "outputs": [
    {
     "name": "stdout",
     "output_type": "stream",
     "text": [
      "4e-6y=77\n",
      "7t+9u=79\n"
     ]
    }
   ],
   "source": [
    "eqn=[input() for i in range(2)]"
   ]
  },
  {
   "cell_type": "code",
   "execution_count": 4,
   "metadata": {},
   "outputs": [
    {
     "data": {
      "text/plain": [
       "['4e-6y=77', '7t+9u=79']"
      ]
     },
     "execution_count": 4,
     "metadata": {},
     "output_type": "execute_result"
    }
   ],
   "source": [
    "eqn"
   ]
  },
  {
   "cell_type": "code",
   "execution_count": 5,
   "metadata": {},
   "outputs": [
    {
     "name": "stdout",
     "output_type": "stream",
     "text": [
      "4e-6y=77\n",
      "7t+9u=79\n",
      "['4e-6y=77', '7t+9u=79']\n"
     ]
    }
   ],
   "source": [
    "eqn = []\n",
    "for i in range(2):\n",
    "    eqn.append(input())\n",
    "print(eqn)    "
   ]
  },
  {
   "cell_type": "code",
   "execution_count": 6,
   "metadata": {},
   "outputs": [
    {
     "name": "stdout",
     "output_type": "stream",
     "text": [
      "4\n",
      "e\n",
      "-\n",
      "6\n",
      "y\n",
      "=\n",
      "7\n",
      "7\n"
     ]
    }
   ],
   "source": [
    "for i in '4e-6y=77':\n",
    "    print(i)"
   ]
  },
  {
   "cell_type": "code",
   "execution_count": null,
   "metadata": {},
   "outputs": [],
   "source": []
  }
 ],
 "metadata": {
  "kernelspec": {
   "display_name": "Python 3",
   "language": "python",
   "name": "python3"
  },
  "language_info": {
   "codemirror_mode": {
    "name": "ipython",
    "version": 3
   },
   "file_extension": ".py",
   "mimetype": "text/x-python",
   "name": "python",
   "nbconvert_exporter": "python",
   "pygments_lexer": "ipython3",
   "version": "3.6.5"
  }
 },
 "nbformat": 4,
 "nbformat_minor": 2
}
