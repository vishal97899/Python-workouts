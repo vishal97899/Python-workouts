{
 "cells": [
  {
   "cell_type": "code",
   "execution_count": 1,
   "metadata": {},
   "outputs": [
    {
     "name": "stdout",
     "output_type": "stream",
     "text": [
      "2\n",
      "vishal\n",
      "ram\n",
      "['vishal', 'ram']\n",
      "['ram', 'vishal']\n"
     ]
    }
   ],
   "source": [
    "n=int(input())\n",
    "a=[]\n",
    "for i in range(n):\n",
    "    a.append(input())\n",
    "print(a)\n",
    "b=a[::-1] \n",
    "print(b)"
   ]
  },
  {
   "cell_type": "code",
   "execution_count": 3,
   "metadata": {},
   "outputs": [
    {
     "name": "stdout",
     "output_type": "stream",
     "text": [
      "mani\n",
      "inam\n",
      "true\n"
     ]
    }
   ],
   "source": [
    "a=input()\n",
    "b=input()\n",
    "if (len(a)==len(b)):\n",
    "    if (sorted(a)==sorted(b)):\n",
    "        print(\"true\")\n",
    "    else:\n",
    "        print(\"false\")\n",
    "else:\n",
    "    print(\"false\")\n"
   ]
  },
  {
   "cell_type": "code",
   "execution_count": 6,
   "metadata": {},
   "outputs": [
    {
     "name": "stdout",
     "output_type": "stream",
     "text": [
      "mango\n",
      "not a palindrome\n"
     ]
    }
   ],
   "source": [
    "a=(input())\n",
    "b=a[::-1]\n",
    "if (a==b):\n",
    "    print(\"palindrome\")\n",
    "else:\n",
    "    print(\"not a palindrome\")\n",
    "\n"
   ]
  },
  {
   "cell_type": "code",
   "execution_count": 7,
   "metadata": {},
   "outputs": [
    {
     "name": "stdout",
     "output_type": "stream",
     "text": [
      "3\n",
      "ram\n",
      "Ram\n",
      "ram\n",
      "['ram', 'ram', 'ram']\n",
      "{'ram'}\n"
     ]
    }
   ],
   "source": [
    "a=[]\n",
    "n=int(input())\n",
    "for i in range(n):\n",
    "    a.append(input().lower())\n",
    "print(a)\n",
    "b=set(a)  \n",
    "print(b)"
   ]
  },
  {
   "cell_type": "code",
   "execution_count": 2,
   "metadata": {},
   "outputs": [
    {
     "name": "stdout",
     "output_type": "stream",
     "text": [
      "the end is here\n",
      "theendishere\n"
     ]
    }
   ],
   "source": [
    "import re\n",
    "a=input()\n",
    "r=(re.findall(\"\\w+\",a))\n",
    "a=''.join(r)\n",
    "print(a)"
   ]
  },
  {
   "cell_type": "code",
   "execution_count": 43,
   "metadata": {},
   "outputs": [
    {
     "name": "stdout",
     "output_type": "stream",
     "text": [
      "r e w\n",
      "ee thr yht\n",
      "['r', 'e', 'w', 'ee', 'thr', 'yht']\n",
      "['e', 'ee', 'r', 'thr', 'w', 'yht']\n"
     ]
    }
   ],
   "source": [
    "a=[]\n",
    "for i in range(2):\n",
    "    a.extend(list(input().split(\" \")))\n",
    "print(a)\n",
    "b=sorted(a)\n",
    "print(b)"
   ]
  },
  {
   "cell_type": "code",
   "execution_count": 55,
   "metadata": {},
   "outputs": [
    {
     "data": {
      "text/plain": [
       "['1|454721||DOE^JOHN^^^^|DOE^JOHN^^^^|19480203|M||B|254 MYSTREET',\n",
       " '2|654441||CORNNOR^JIM^^^^|DOE^JOHN^^^^|19560203|M||B|114 YOURSTREET']"
      ]
     },
     "execution_count": 55,
     "metadata": {},
     "output_type": "execute_result"
    }
   ],
   "source": [
    "[\"1|454721||DOE^JOHN^^^^|DOE^JOHN^^^^|19480203|M||B|254 MYSTREET\", \n",
    "\n",
    "\"2|654441||CORNNOR^JIM^^^^|DOE^JOHN^^^^|19560203|M||B|114 YOURSTREET\"]"
   ]
  },
  {
   "cell_type": "code",
   "execution_count": 28,
   "metadata": {},
   "outputs": [
    {
     "name": "stdout",
     "output_type": "stream",
     "text": [
      "['1|454721||DOE^JOHN^^^^|DOE^JOHN^^^^|19480203|M||B|254 MYSTREET', '2|654441||CORNNOR^JIM^^^^|DOE^JOHN^^^^|19560203|M||B|114 YOURSTREET']\n"
     ]
    }
   ],
   "source": [
    "print(a)"
   ]
  },
  {
   "cell_type": "code",
   "execution_count": 33,
   "metadata": {},
   "outputs": [],
   "source": [
    "import re"
   ]
  },
  {
   "cell_type": "code",
   "execution_count": 40,
   "metadata": {},
   "outputs": [
    {
     "name": "stdout",
     "output_type": "stream",
     "text": [
      "JOHN\n"
     ]
    }
   ],
   "source": [
    "print(re.search(\"^\\w+^^^^\",\"1|454721||DOE^JOHN^^^^|DOE^JOHN^^^^|19480203|M||B|254 MYSTREET\").group())"
   ]
  },
  {
   "cell_type": "code",
   "execution_count": 78,
   "metadata": {},
   "outputs": [
    {
     "name": "stdout",
     "output_type": "stream",
     "text": [
      "1|454721||DOE^JOHN^^^^|DOE^JOHN^^^^|19480203|M||B|254 MYSTREET\n",
      "JOHN\n"
     ]
    }
   ],
   "source": [
    "a=input()\n",
    "b=(re.findall(r\"\\w+\",a))\n",
    "print(b[3])"
   ]
  },
  {
   "cell_type": "code",
   "execution_count": null,
   "metadata": {},
   "outputs": [],
   "source": []
  }
 ],
 "metadata": {
  "kernelspec": {
   "display_name": "Python 3",
   "language": "python",
   "name": "python3"
  },
  "language_info": {
   "codemirror_mode": {
    "name": "ipython",
    "version": 3
   },
   "file_extension": ".py",
   "mimetype": "text/x-python",
   "name": "python",
   "nbconvert_exporter": "python",
   "pygments_lexer": "ipython3",
   "version": "3.6.5"
  }
 },
 "nbformat": 4,
 "nbformat_minor": 2
}
